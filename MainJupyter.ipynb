{
 "cells": [
  {
   "cell_type": "markdown",
   "metadata": {},
   "source": [
    "# Overview\n",
    "\n",
    "Here, we simulate an algorithm for a potential, partially secure, multi private key cryptosystem. The algorithm is as follows:\n",
    "\n",
    "1. Input a message, split into list of characters, and convert to ASCII values\n",
    "2. Pass each ASCII data through the *Koblitz encoder*, to convert into $(x_0,y_0)$ pairs\n",
    "3. Define a **private key** $(h,k)$ and perform $$(x_1,y_1)\\to(x_0+h,y_0+k)$$\n",
    "4. Define another **private key**, an integer $n$ such that $\\theta=\\dfrac{n\\pi}2$ and generate the rotation matrix $$R=\\left(\\begin{array}{cc}\\cos\\theta &-\\sin\\theta\\\\ \\sin\\theta & \\cos\\theta\\end{array}\\right)$$\n",
    "5. Perform $$(x_2,y_2)=R\\left(\\begin{array}{c}x_1\\\\y_1\\end{array}\\right)$$\n",
    "\n",
    "6. For decrypting the data, perform $$(x_1,y_1)=R^{-1}\\left(\\begin{array}{c}x_2\\\\y_2\\end{array}\\right)$$\n",
    "7. Revert back by undoing the change of axes transformation $$(x_0,y_0)\\to(x_1-h,y_1-k)$$\n",
    "\n",
    "8. Now that the points have been recovered, passing them through the *Koblitz decoder* function, outputs the original string."
   ]
  },
  {
   "cell_type": "markdown",
   "metadata": {},
   "source": [
    "First, we define the required modules and packages"
   ]
  },
  {
   "cell_type": "code",
   "execution_count": 1,
   "metadata": {},
   "outputs": [],
   "source": [
    "import numpy as np\n",
    "import math\n",
    "from time import time\n",
    "from matplotlib import pyplot as plt\n",
    "%matplotlib inline"
   ]
  },
  {
   "cell_type": "code",
   "execution_count": 2,
   "metadata": {},
   "outputs": [],
   "source": [
    "def sq_root_mod_n(n, p):\n",
    "    n = n % p\n",
    "    for x in range(2, p):\n",
    "        if ((x * x) % p == n):\n",
    "            return x\n",
    "    return 0"
   ]
  },
  {
   "cell_type": "code",
   "execution_count": 3,
   "metadata": {},
   "outputs": [],
   "source": [
    "def koblitz_encoder(plainText, elliptic_a, elliptic_b):\n",
    "    ord_lst = [ord(ch) for ch in plainText]\n",
    "    k = 20\n",
    "    p = 751\n",
    "\n",
    "    x_coords = []\n",
    "    y_coords = []\n",
    "    encoded_points = []\n",
    "\n",
    "    for m in ord_lst:\n",
    "        for j in range(1, k):\n",
    "            x_m = m * k + j\n",
    "            n = pow(x_m, 3) + elliptic_a * x_m + elliptic_b\n",
    "            y_m = sq_root_mod_n(n, p)\n",
    "            if (y_m != 0):\n",
    "                x_coords.append(x_m)\n",
    "                y_coords.append(y_m)\n",
    "                encoded_points.append([x_m, y_m])\n",
    "                break\n",
    "\n",
    "    encoded = []\n",
    "    for i in range(len(x_coords)):\n",
    "        encoded.append([x_coords[i], y_coords[i]])\n",
    "        #print('{},{}'.format(x_coords[i], y_coords[i]))\n",
    "    return encoded\n",
    "\n",
    "\n",
    "def koblitz_decoder(encoded_points):\n",
    "    decoded_Msg = []\n",
    "    k = 20\n",
    "    for i in range(len(encoded_points)):\n",
    "        d = math.floor((encoded_points[i][0] - 1) / k)\n",
    "        #print(type(d))\n",
    "        decoded_Msg.append(abs(d))\n",
    "\n",
    "    # print(''.join(decoded_Msg))\n",
    "    return ''.join(map(lambda x: chr(x),decoded_Msg))"
   ]
  },
  {
   "cell_type": "code",
   "execution_count": 4,
   "metadata": {},
   "outputs": [],
   "source": [
    "def encrypt(lst_pts,h,k,n):\n",
    "    for i in range(len(lst_pts)):\n",
    "        lst_pts[i][0]+=h\n",
    "        lst_pts[i][1]+=k\n",
    "    \n",
    "    theta = n * np.pi / 2\n",
    "    R = [[int(np.cos(theta)), int(-np.sin(theta))],\n",
    "         [int(np.sin(theta)), int(np.cos(theta))]]\n",
    "    \n",
    "    for i in range(len(lst_pts)):\n",
    "        lst_pts[i] = np.matmul(lst_pts[i], R)\n",
    "        lst_pts[i] = lst_pts[i].tolist()\n",
    "\n",
    "    return lst_pts"
   ]
  },
  {
   "cell_type": "code",
   "execution_count": 5,
   "metadata": {},
   "outputs": [],
   "source": [
    "def decrypt(enc_pts,h,k,n):\n",
    "    theta = n * np.pi / 2\n",
    "    R = [[int(np.cos(theta)), int(-np.sin(theta))],\n",
    "         [int(np.sin(theta)), int(np.cos(theta))]]\n",
    "    \n",
    "    p=[]\n",
    "    for i in range(len(enc_pts)):\n",
    "        p.append(np.matmul(np.linalg.inv(R), enc_pts[i]).tolist())\n",
    "    \n",
    "    for i in range(len(p)):\n",
    "        p[i][0] -= h\n",
    "        p[i][1] -= k\n",
    "        #p[i]=p[i].tolist()\n",
    "        \n",
    "    return p"
   ]
  },
  {
   "cell_type": "code",
   "execution_count": 6,
   "metadata": {},
   "outputs": [
    {
     "name": "stdout",
     "output_type": "stream",
     "text": [
      "String length\tTime Elapsed\n",
      "----------------------------\n",
      "26\t\t  0.00281\n",
      "260\t\t  0.02543\n",
      "2600\t\t  0.23734\n",
      "26000\t\t  2.54921\n"
     ]
    }
   ],
   "source": [
    "#msg=input(\"Enter a message: \")\n",
    "msg=\"abcdefghijklmnopqrstuvwxyz\"\n",
    "# a,b=map(int,input(\"\\nEnter elliptic curve parameters (a,b): \").split())\n",
    "# h,k=map(int,input(\"\\nEnter change of axes parameters (h,k): \").split())\n",
    "# n=int(input(\"\\nEnter an integer to generate angle of rotation matrix: \"))\n",
    "\n",
    "a,b,h,k,n=5,7,3,4,1\n",
    "\n",
    "count=0\n",
    "\n",
    "print(\"String length\\tTime Elapsed\\n----------------------------\")\n",
    "while count<4:\n",
    "    t=time()\n",
    "    enc=koblitz_encoder(msg,a,b)\n",
    "    #t1=time()-t\n",
    "    #print(\"\\nEncoded:\\n{}\".format(enc))\n",
    "    #print(\"\\nTime elapsed: {}\".format(t1))\n",
    "\n",
    "    #t=time()\n",
    "    encrypted_data=encrypt(enc,h,k,n)\n",
    "    #t1=time()-t\n",
    "    #print(\"\\nEncrypted message:\\n{}\".format(encrypted_data))\n",
    "    #print(\"\\nTime elapsed: {}\".format(t1))\n",
    "\n",
    "    #t=time()\n",
    "    decrypted_data=decrypt(encrypted_data,h,k,n)\n",
    "    #t1=time()-t\n",
    "    #print(\"\\nDecrypted message:\\n{}\".format(decrypted_data))\n",
    "    #print(\"\\nTime elapsedL {}\".format(t1))\n",
    "\n",
    "    #t=time()\n",
    "    dec=koblitz_decoder(decrypted_data)\n",
    "    t1=time()-t\n",
    "    #print(\"\\nDecoded message:\\n{}\".format(dec))\n",
    "    #print(\"\\nTime elapsed: {}\".format(t1))\n",
    "    print(\"{}\\t\\t  {:.5f}\".format(len(msg),t1))\n",
    "    \n",
    "    count+=1\n",
    "    msg=msg*10"
   ]
  },
  {
   "cell_type": "code",
   "execution_count": 7,
   "metadata": {},
   "outputs": [
    {
     "data": {
      "image/png": "[encoded data removed]",
      "text/plain": [
       "<Figure size 432x288 with 1 Axes>"
      ]
     },
     "metadata": {
      "needs_background": "light"
     },
     "output_type": "display_data"
    }
   ],
   "source": [
    "#msg=input(\"Enter a message: \")\n",
    "msg=\"abcdefghijklmnopqrstuvwxyz\"\n",
    "# a,b=map(int,input(\"\\nEnter elliptic curve parameters (a,b): \").split())\n",
    "# h,k=map(int,input(\"\\nEnter change of axes parameters (h,k): \").split())\n",
    "# n=int(input(\"\\nEnter an integer to generate angle of rotation matrix: \"))\n",
    "\n",
    "a,b,h,k,n=5,7,3,4,1\n",
    "\n",
    "count=0\n",
    "t_=[]\n",
    "#print(\"String length\\tTime Elapsed\\n----------------------------\")\n",
    "for i in range(0,len(msg)):\n",
    "    t=time()\n",
    "    enc=koblitz_encoder(msg,a,b)\n",
    "    #t1=time()-t\n",
    "    #print(\"\\nEncoded:\\n{}\".format(enc))\n",
    "    #print(\"\\nTime elapsed: {}\".format(t1))\n",
    "\n",
    "    #t=time()\n",
    "    encrypted_data=encrypt(enc,h,k,n)\n",
    "    #t1=time()-t\n",
    "    #print(\"\\nEncrypted message:\\n{}\".format(encrypted_data))\n",
    "    #print(\"\\nTime elapsed: {}\".format(t1))\n",
    "\n",
    "    #t=time()\n",
    "    decrypted_data=decrypt(encrypted_data,h,k,n)\n",
    "    #t1=time()-t\n",
    "    #print(\"\\nDecrypted message:\\n{}\".format(decrypted_data))\n",
    "    #print(\"\\nTime elapsedL {}\".format(t1))\n",
    "\n",
    "    #t=time()\n",
    "    dec=koblitz_decoder(decrypted_data)\n",
    "    t1=time()-t\n",
    "    \n",
    "    t_.append(t1)\n",
    "    #print(\"\\nDecoded message:\\n{}\".format(dec))\n",
    "    #print(\"\\nTime elapsed: {}\".format(t1))\n",
    "    #print(\"{}\\t\\t  {:.5f}\".format(i,t1))\n",
    "\n",
    "x=np.arange(len(msg))\n",
    "y=t_\n",
    "plt.xlabel('String length')\n",
    "plt.ylabel('Time in seconds')\n",
    "plt.title('String length vs Time')\n",
    "plt.plot(x,y,'ro')\n",
    "plt.savefig('strlen vs time.png')"
   ]
  },
  {
   "cell_type": "code",
   "execution_count": 8,
   "metadata": {},
   "outputs": [
    {
     "name": "stdout",
     "output_type": "stream",
     "text": [
      "Total trials: 777924\n",
      "Successful trials: 455440\n",
      "Percentage of successful trials: 58.5455648623773\n"
     ]
    }
   ],
   "source": [
    "msg=\"Hello\"\n",
    "\n",
    "r = 10\n",
    "success=0\n",
    "for a in range(-r,r):\n",
    "    for b in range(-r,r):\n",
    "        for h in range(-r,r):\n",
    "            for k in range(-r,r):\n",
    "                for n in range(4):\n",
    "                    enc=koblitz_encoder(msg,a,b)\n",
    "\n",
    "                    encrypted_data=encrypt(enc,h,k,n)\n",
    "\n",
    "                    decrypted_data=decrypt(encrypted_data,h,k,n)\n",
    "\n",
    "                    dec=koblitz_decoder(decrypted_data)\n",
    "\n",
    "                    if dec==msg:\n",
    "                        success+=1\n",
    "\n",
    "print(\"Total trials: {}\\nSuccessful trials: {}\\nPercentage of successful trials: {}\".format(4*(2*r+1)**4,success,(success/(4*(2*r+1)**4))*100))                    "
   ]
  },
  {
   "cell_type": "markdown",
   "metadata": {},
   "source": [
    "With fixed $n=0,1,2,3$, and varying $(a,b,h,k)$ the following results were obtained"
   ]
  },
  {
   "cell_type": "code",
   "execution_count": 9,
   "metadata": {},
   "outputs": [
    {
     "name": "stdout",
     "output_type": "stream",
     "text": [
      "Total trials: 194481\n",
      "Successful trials: 160000\n",
      "Percentage of successful trials: 82.2702474791882\n",
      "Total trials: 194481\n",
      "Successful trials: 67720\n",
      "Percentage of successful trials: 34.8208822455664\n",
      "Total trials: 194481\n",
      "Successful trials: 160000\n",
      "Percentage of successful trials: 82.2702474791882\n",
      "Total trials: 194481\n",
      "Successful trials: 67720\n",
      "Percentage of successful trials: 34.8208822455664\n"
     ]
    }
   ],
   "source": [
    "msg=\"Hello\"\n",
    "n=0\n",
    "r = 10\n",
    "success=0\n",
    "for a in range(-r,r):\n",
    "    for b in range(-r,r):\n",
    "        for h in range(-r,r):\n",
    "            for k in range(-r,r):\n",
    "                enc=koblitz_encoder(msg,a,b)\n",
    "                \n",
    "                encrypted_data=encrypt(enc,h,k,n)\n",
    "                \n",
    "                decrypted_data=decrypt(encrypted_data,h,k,n)\n",
    "                \n",
    "                dec=koblitz_decoder(decrypted_data)\n",
    "                \n",
    "                if dec==msg:\n",
    "                    success+=1\n",
    "\n",
    "print(\"Total trials: {}\\nSuccessful trials: {}\\nPercentage of successful trials: {}\".format((2*r+1)**4,success,(success/((2*r+1)**4))*100))\n",
    "\n",
    "msg=\"Hello\"\n",
    "n=1\n",
    "r = 10\n",
    "success=0\n",
    "for a in range(-r,r):\n",
    "    for b in range(-r,r):\n",
    "        for h in range(-r,r):\n",
    "            for k in range(-r,r):\n",
    "                enc=koblitz_encoder(msg,a,b)\n",
    "                \n",
    "                encrypted_data=encrypt(enc,h,k,n)\n",
    "                \n",
    "                decrypted_data=decrypt(encrypted_data,h,k,n)\n",
    "                \n",
    "                dec=koblitz_decoder(decrypted_data)\n",
    "                \n",
    "                if dec==msg:\n",
    "                    success+=1\n",
    "\n",
    "print(\"Total trials: {}\\nSuccessful trials: {}\\nPercentage of successful trials: {}\".format((2*r+1)**4,success,(success/((2*r+1)**4))*100))\n",
    "\n",
    "msg=\"Hello\"\n",
    "n=2\n",
    "r = 10\n",
    "success=0\n",
    "for a in range(-r,r):\n",
    "    for b in range(-r,r):\n",
    "        for h in range(-r,r):\n",
    "            for k in range(-r,r):\n",
    "                enc=koblitz_encoder(msg,a,b)\n",
    "                \n",
    "                encrypted_data=encrypt(enc,h,k,n)\n",
    "                \n",
    "                decrypted_data=decrypt(encrypted_data,h,k,n)\n",
    "                \n",
    "                dec=koblitz_decoder(decrypted_data)\n",
    "                \n",
    "                if dec==msg:\n",
    "                    success+=1\n",
    "\n",
    "print(\"Total trials: {}\\nSuccessful trials: {}\\nPercentage of successful trials: {}\".format((2*r+1)**4,success,(success/((2*r+1)**4))*100))\n",
    "\n",
    "msg=\"Hello\"\n",
    "n=3\n",
    "r = 10\n",
    "success=0\n",
    "for a in range(-r,r):\n",
    "    for b in range(-r,r):\n",
    "        for h in range(-r,r):\n",
    "            for k in range(-r,r):\n",
    "                enc=koblitz_encoder(msg,a,b)\n",
    "                \n",
    "                encrypted_data=encrypt(enc,h,k,n)\n",
    "                \n",
    "                decrypted_data=decrypt(encrypted_data,h,k,n)\n",
    "                \n",
    "                dec=koblitz_decoder(decrypted_data)\n",
    "                \n",
    "                if dec==msg:\n",
    "                    success+=1\n",
    "\n",
    "print(\"Total trials: {}\\nSuccessful trials: {}\\nPercentage of successful trials: {}\".format((2*r+1)**4,success,(success/((2*r+1)**4))*100))\n"
   ]
  },
  {
   "cell_type": "markdown",
   "metadata": {},
   "source": [
    "It is seen that when $n\\in\\left\\{0,2\\right\\}$, i.e. $0^{\\circ}$ or $360^{\\circ}$, and $270^{\\circ}$ generates the maximum successful decryption."
   ]
  }
 ],
 "metadata": {
  "kernelspec": {
   "display_name": "Python 3",
   "language": "python",
   "name": "python3"
  },
  "language_info": {
   "codemirror_mode": {
    "name": "ipython",
    "version": 3
   },
   "file_extension": ".py",
   "mimetype": "text/x-python",
   "name": "python",
   "nbconvert_exporter": "python",
   "pygments_lexer": "ipython3",
   "version": "3.8.2"
  }
 },
 "nbformat": 4,
 "nbformat_minor": 4
}

{
 "cells": [
  {
   "cell_type": "code",
   "execution_count": 13,
   "metadata": {},
   "outputs": [],
   "source": [
    "import numpy as np\n",
    "import numba as nb\n",
    "\n",
    "\n",
    "@nb.njit()\n",
    "def ascii_conversion(plaintext: str) -> np.ndarray:\n",
    "    str_characters = list(plaintext)\n",
    "    str_characters = [ord(s) for s in str_characters]\n",
    "    str_array = np.array(str_characters)\n",
    "\n",
    "    return str_array"
   ]
  },
  {
   "cell_type": "code",
   "execution_count": 19,
   "metadata": {},
   "outputs": [],
   "source": [
    "plaintext = \"Hello World.\"\n",
    "\n",
    "ascii_table = ascii_conversion(plaintext)"
   ]
  },
  {
   "cell_type": "code",
   "execution_count": 17,
   "metadata": {},
   "outputs": [
    {
     "data": {
      "text/plain": [
       "3"
      ]
     },
     "execution_count": 17,
     "metadata": {},
     "output_type": "execute_result"
    }
   ],
   "source": [
    "test_array = np.array([[1, 2, 3], [4, 5, 6]])\n",
    "test_array[0, 2]"
   ]
  },
  {
   "cell_type": "code",
   "execution_count": 23,
   "metadata": {},
   "outputs": [],
   "source": [
    "@nb.njit()\n",
    "def cantor_inverse(ascii_table: np.ndarray) -> np.ndarray:\n",
    "    cantor_points = np.zeros(shape=(ascii_table.shape[0], 2), dtype=np.int64)\n",
    "\n",
    "    for i in nb.prange(cantor_points.shape[0]):\n",
    "        n = np.floor((-1 + np.sqrt(1 + 8*ascii_table[i])) / 2)\n",
    "        cantor_points[i][0] = ascii_table[i] - (0.5)*n*(n+1)\n",
    "        cantor_points[i][1] = n - cantor_points[i][0]\n",
    "    \n",
    "    return cantor_points"
   ]
  },
  {
   "cell_type": "code",
   "execution_count": 24,
   "metadata": {},
   "outputs": [
    {
     "data": {
      "text/plain": [
       "array([[ 6,  5],\n",
       "       [10,  3],\n",
       "       [ 3, 11],\n",
       "       [ 3, 11],\n",
       "       [ 6,  8],\n",
       "       [ 4,  3],\n",
       "       [ 9,  3],\n",
       "       [ 6,  8],\n",
       "       [ 9,  5],\n",
       "       [ 3, 11],\n",
       "       [ 9,  4],\n",
       "       [ 1,  8]], dtype=int64)"
      ]
     },
     "execution_count": 24,
     "metadata": {},
     "output_type": "execute_result"
    }
   ],
   "source": [
    "cantor_inverse(ascii_table)"
   ]
  },
  {
   "cell_type": "code",
   "execution_count": 1,
   "metadata": {},
   "outputs": [
    {
     "name": "stdout",
     "output_type": "stream",
     "text": [
      "[[ 6  5]\n",
      " [10  3]\n",
      " [ 3 11]\n",
      " [ 3 11]\n",
      " [ 6  8]\n",
      " [ 4  3]\n",
      " [ 9  3]\n",
      " [ 6  8]\n",
      " [ 9  5]\n",
      " [ 3 11]\n",
      " [ 9  4]\n",
      " [ 1  8]]\n",
      "12\n",
      "[[  4 -10]\n",
      " [ -6  -5]\n",
      " [ 10  -7]\n",
      " [  1 -13]\n",
      " [  7 -10]\n",
      " [  0  -5]\n",
      " [  2 -13]\n",
      " [ -2 -10]\n",
      " [  4 -13]\n",
      " [  1 -13]\n",
      " [  3 -13]\n",
      " [  3 -10]]\n",
      "12\n"
     ]
    }
   ],
   "source": [
    "from Encryption import Encrypt\n",
    "\n",
    "plaintext = \"Hello World.\"\n",
    "\n",
    "encryptor = Encrypt(plaintext, 4, -1, -4, 2, 1, 2)\n",
    "\n",
    "cantor_points = encryptor.get_cantor_points()\n",
    "encrypted_points = encryptor.get_encrypted_points()\n",
    "\n",
    "print(cantor_points)\n",
    "print(len(cantor_points))\n",
    "print(encrypted_points)\n",
    "print(len(encrypted_points))"
   ]
  },
  {
   "cell_type": "code",
   "execution_count": 10,
   "metadata": {},
   "outputs": [
    {
     "data": {
      "image/png": "[encoded data removed]",
      "text/plain": [
       "<Figure size 640x480 with 1 Axes>"
      ]
     },
     "metadata": {},
     "output_type": "display_data"
    }
   ],
   "source": [
    "import matplotlib.pyplot as plt\n",
    "\n",
    "plt.scatter(cantor_points[:, 0], cantor_points[:, 1])\n",
    "plt.scatter(encrypted_points[:, 0], encrypted_points[:, 1])\n",
    "plt.show()"
   ]
  },
  {
   "cell_type": "code",
   "execution_count": 2,
   "metadata": {},
   "outputs": [
    {
     "data": {
      "text/plain": [
       "'114211214112111112'"
      ]
     },
     "execution_count": 2,
     "metadata": {},
     "output_type": "execute_result"
    }
   ],
   "source": [
    "encryptor.get_shared_key()"
   ]
  },
  {
   "attachments": {},
   "cell_type": "markdown",
   "metadata": {},
   "source": [
    "-> We want a shared key that can be exchanged through an asymmetric system"
   ]
  },
  {
   "cell_type": "code",
   "execution_count": 47,
   "metadata": {},
   "outputs": [
    {
     "name": "stdout",
     "output_type": "stream",
     "text": [
      "348\n",
      "-795\n",
      "978\n",
      "-667\n",
      "990\n",
      "-609\n",
      "133482379513978236671399023609\n"
     ]
    },
    {
     "data": {
      "text/plain": [
       "[20, 15, 36, -50, -95, -4]"
      ]
     },
     "execution_count": 47,
     "metadata": {},
     "output_type": "execute_result"
    }
   ],
   "source": [
    "#             h1 k1 h2  k2 n1 n2 \n",
    "# parameters = [4, -1, -4, 2, 1, 2]\n",
    "import random\n",
    "\n",
    "parameters = []\n",
    "\n",
    "for _ in range(6):\n",
    "    temp = random.randint(-1000, 1000)\n",
    "    print(temp)\n",
    "    parameters.append(temp)\n",
    "\n",
    "parity_bits = []\n",
    "\n",
    "for index, param in enumerate(parameters):\n",
    "    if param >= 0:\n",
    "        parameters[index] = str(param)\n",
    "        parity_bits.append(str(1))\n",
    "    else:\n",
    "        param = param * (-1)\n",
    "        parameters[index] = str(param)\n",
    "        parity_bits.append(str(2))\n",
    "\n",
    "shared_key = []\n",
    "\n",
    "for parity, parameter in zip(parity_bits, parameters):\n",
    "    shared_key.append(parity)\n",
    "    shared_key.append(str(len(parameter)))\n",
    "    shared_key.append(parameter)\n",
    "\n",
    "key = \"\".join(shared_key)\n",
    "\n",
    "print(key)\n",
    "\n",
    "[20, 15, 36, -50, -95, -4]\n",
    "\n",
    "[348, -795, 978, -667, 990, -609]"
   ]
  },
  {
   "attachments": {},
   "cell_type": "markdown",
   "metadata": {},
   "source": [
    "Parity Bit  Digit Bit  Actual Parameter\n",
    "     1          3            443                211214112111112\n",
    "\n",
    "Parity Bit  Digit Bit  Actual Parameter\n",
    "     1          2            23             12451214 223022771223\n",
    "\n",
    "Parity Bit  Digit Bit  Actual Parameter\n",
    "    2           2            30"
   ]
  },
  {
   "cell_type": "code",
   "execution_count": 49,
   "metadata": {},
   "outputs": [
    {
     "name": "stdout",
     "output_type": "stream",
     "text": [
      "['1', '3', '3', '4', '8', '2', '3', '7', '9', '5', '1', '3', '9', '7', '8', '2', '3', '6', '6', '7', '1', '3', '9', '9', '0', '2', '3', '6', '0', '9']\n",
      "30\n",
      "[1]\n",
      "[1, 6]\n",
      "[1, 6, 11]\n",
      "[1, 6, 11, 16]\n",
      "[1, 6, 11, 16, 21]\n",
      "[1, 6, 11, 16, 21, 26]\n"
     ]
    }
   ],
   "source": [
    "key = '133482379513978236671399023609'\n",
    "\n",
    "key_list = list(key)\n",
    "\n",
    "print(key_list)\n",
    "print(len(key_list))\n",
    "# We know the first digit bit is at index 1\n",
    "\n",
    "digit_bit_indices = []\n",
    "\n",
    "current_digit_bit_index = 1\n",
    "\n",
    "digit_bit_indices.append(current_digit_bit_index)\n",
    "\n",
    "current_digit_bit_value = int(key_list[current_digit_bit_index])\n",
    "\n",
    "while True:\n",
    "\n",
    "    print(digit_bit_indices)\n",
    "    \n",
    "    try:\n",
    "        current_digit_bit_index = current_digit_bit_index + current_digit_bit_value + 2\n",
    "\n",
    "        current_digit_bit_value = int(key_list[current_digit_bit_index])\n",
    "\n",
    "        digit_bit_indices.append(current_digit_bit_index)\n",
    "    except:\n",
    "        break"
   ]
  },
  {
   "cell_type": "code",
   "execution_count": 50,
   "metadata": {},
   "outputs": [
    {
     "name": "stdout",
     "output_type": "stream",
     "text": [
      "[1, 2, 1, 2, 1, 2]\n",
      "[3, 3, 3, 3, 3, 3]\n"
     ]
    }
   ],
   "source": [
    "parity_bit_indices = [x-1 for x in digit_bit_indices]\n",
    "\n",
    "parity_bit_values = [int(key_list[x]) for x in parity_bit_indices]\n",
    "\n",
    "digit_bit_values = [int(key_list[x]) for x in digit_bit_indices]\n",
    "\n",
    "print(parity_bit_values)\n",
    "print(digit_bit_values)"
   ]
  },
  {
   "cell_type": "code",
   "execution_count": 51,
   "metadata": {},
   "outputs": [
    {
     "name": "stdout",
     "output_type": "stream",
     "text": [
      "['3', '4', '8']\n",
      "['7', '9', '5']\n",
      "['9', '7', '8']\n",
      "['6', '6', '7']\n",
      "['9', '9', '0']\n",
      "['6', '0', '9']\n",
      "[348, -795, 978, -667, 990, -609]\n"
     ]
    }
   ],
   "source": [
    "parameter = []\n",
    "\n",
    "parity = 0\n",
    "\n",
    "for index, skip in zip(digit_bit_indices, digit_bit_values):\n",
    "    param_start = index + 1\n",
    "    param_end = index + skip + 1\n",
    "\n",
    "    param = key_list[param_start:param_end]\n",
    "    print(param)\n",
    "    param = \"\".join(param)\n",
    "    param = int(param)\n",
    "    \n",
    "    if parity_bit_values[parity] == 1:\n",
    "        parameter.append(param)\n",
    "    else:\n",
    "        param = param * (-1)\n",
    "        parameter.append(param)\n",
    "\n",
    "    parity = parity + 1\n",
    "\n",
    "print(parameter)"
   ]
  }
 ],
 "metadata": {
  "kernelspec": {
   "display_name": "deep",
   "language": "python",
   "name": "python3"
  },
  "language_info": {
   "codemirror_mode": {
    "name": "ipython",
    "version": 3
   },
   "file_extension": ".py",
   "mimetype": "text/x-python",
   "name": "python",
   "nbconvert_exporter": "python",
   "pygments_lexer": "ipython3",
   "version": "3.10.8 | packaged by conda-forge | (main, Nov 24 2022, 14:07:00) [MSC v.1916 64 bit (AMD64)]"
  },
  "orig_nbformat": 4,
  "vscode": {
   "interpreter": {
    "hash": "750b0b0bcdd9fe2e206a310bba2895779907b3630475ba10ada1c3aa2da185e2"
   }
  }
 },
 "nbformat": 4,
 "nbformat_minor": 2
}

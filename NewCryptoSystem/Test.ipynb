{
 "cells": [
  {
   "cell_type": "code",
   "execution_count": 13,
   "metadata": {},
   "outputs": [],
   "source": [
    "import numpy as np\n",
    "import numba as nb\n",
    "\n",
    "\n",
    "@nb.njit()\n",
    "def ascii_conversion(plaintext: str) -> np.ndarray:\n",
    "    str_characters = list(plaintext)\n",
    "    str_characters = [ord(s) for s in str_characters]\n",
    "    str_array = np.array(str_characters)\n",
    "\n",
    "    return str_array"
   ]
  },
  {
   "cell_type": "code",
   "execution_count": 19,
   "metadata": {},
   "outputs": [],
   "source": [
    "plaintext = \"Hello World.\"\n",
    "\n",
    "ascii_table = ascii_conversion(plaintext)"
   ]
  },
  {
   "cell_type": "code",
   "execution_count": 17,
   "metadata": {},
   "outputs": [
    {
     "data": {
      "text/plain": [
       "3"
      ]
     },
     "execution_count": 17,
     "metadata": {},
     "output_type": "execute_result"
    }
   ],
   "source": [
    "test_array = np.array([[1, 2, 3], [4, 5, 6]])\n",
    "test_array[0, 2]"
   ]
  },
  {
   "cell_type": "code",
   "execution_count": 23,
   "metadata": {},
   "outputs": [],
   "source": [
    "@nb.njit()\n",
    "def cantor_inverse(ascii_table: np.ndarray) -> np.ndarray:\n",
    "    cantor_points = np.zeros(shape=(ascii_table.shape[0], 2), dtype=np.int64)\n",
    "\n",
    "    for i in nb.prange(cantor_points.shape[0]):\n",
    "        n = np.floor((-1 + np.sqrt(1 + 8*ascii_table[i])) / 2)\n",
    "        cantor_points[i][0] = ascii_table[i] - (0.5)*n*(n+1)\n",
    "        cantor_points[i][1] = n - cantor_points[i][0]\n",
    "    \n",
    "    return cantor_points"
   ]
  },
  {
   "cell_type": "code",
   "execution_count": 24,
   "metadata": {},
   "outputs": [
    {
     "data": {
      "text/plain": [
       "array([[ 6,  5],\n",
       "       [10,  3],\n",
       "       [ 3, 11],\n",
       "       [ 3, 11],\n",
       "       [ 6,  8],\n",
       "       [ 4,  3],\n",
       "       [ 9,  3],\n",
       "       [ 6,  8],\n",
       "       [ 9,  5],\n",
       "       [ 3, 11],\n",
       "       [ 9,  4],\n",
       "       [ 1,  8]], dtype=int64)"
      ]
     },
     "execution_count": 24,
     "metadata": {},
     "output_type": "execute_result"
    }
   ],
   "source": [
    "cantor_inverse(ascii_table)"
   ]
  },
  {
   "cell_type": "code",
   "execution_count": 3,
   "metadata": {},
   "outputs": [
    {
     "name": "stdout",
     "output_type": "stream",
     "text": [
      "[[ 6  5]\n",
      " [10  3]\n",
      " [ 3 11]\n",
      " [ 3 11]\n",
      " [ 6  8]\n",
      " [ 4  3]\n",
      " [ 9  3]\n",
      " [ 6  8]\n",
      " [ 9  5]\n",
      " [ 3 11]\n",
      " [ 9  4]\n",
      " [ 1  8]]\n"
     ]
    }
   ],
   "source": [
    "from Encryption import Encrypt\n",
    "\n",
    "plaintext = \"Hello World.\"\n",
    "\n",
    "encryptor = Encrypt(plaintext, 4, -1, -4, 2, 1)\n",
    "\n",
    "cantor_points = encryptor.get_cantor_points()\n",
    "encrypted_points = encryptor.get_encrypted_points()\n",
    "\n",
    "print(cantor_points)"
   ]
  },
  {
   "cell_type": "code",
   "execution_count": 4,
   "metadata": {},
   "outputs": [
    {
     "data": {
      "image/png": "[encoded data removed]",
      "text/plain": [
       "<Figure size 640x480 with 1 Axes>"
      ]
     },
     "metadata": {},
     "output_type": "display_data"
    }
   ],
   "source": [
    "import matplotlib.pyplot as plt\n",
    "import seaborn as sns\n",
    "sns.set()\n",
    "\n",
    "sns.scatterplot(x=cantor_points[:, 0], y=cantor_points[:, 1])\n",
    "sns.scatterplot(x=encrypted_points[:, 0], y=encrypted_points[:, 1])\n",
    "plt.show()"
   ]
  },
  {
   "cell_type": "code",
   "execution_count": null,
   "metadata": {},
   "outputs": [],
   "source": []
  }
 ],
 "metadata": {
  "kernelspec": {
   "display_name": "deep",
   "language": "python",
   "name": "python3"
  },
  "language_info": {
   "codemirror_mode": {
    "name": "ipython",
    "version": 3
   },
   "file_extension": ".py",
   "mimetype": "text/x-python",
   "name": "python",
   "nbconvert_exporter": "python",
   "pygments_lexer": "ipython3",
   "version": "3.10.8"
  },
  "orig_nbformat": 4,
  "vscode": {
   "interpreter": {
    "hash": "750b0b0bcdd9fe2e206a310bba2895779907b3630475ba10ada1c3aa2da185e2"
   }
  }
 },
 "nbformat": 4,
 "nbformat_minor": 2
}
